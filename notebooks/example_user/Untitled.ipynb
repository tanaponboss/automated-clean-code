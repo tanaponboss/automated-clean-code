{
 "cells": [
  {
   "cell_type": "code",
   "execution_count": 1,
   "id": "14146b80",
   "metadata": {
    "ExecuteTime": {
     "end_time": "2022-08-01T18:01:07.705648Z",
     "start_time": "2022-08-01T18:01:07.702769Z"
    }
   },
   "outputs": [],
   "source": [
    "import automated_clean_code"
   ]
  },
  {
   "cell_type": "code",
   "execution_count": 5,
   "id": "acc21fca",
   "metadata": {
    "ExecuteTime": {
     "end_time": "2022-08-01T18:01:07.935184Z",
     "start_time": "2022-08-01T18:01:07.918851Z"
    }
   },
   "outputs": [
    {
     "data": {
      "text/plain": "10"
     },
     "execution_count": 5,
     "metadata": {},
     "output_type": "execute_result"
    }
   ],
   "source": [
    "automated_clean_code.add_numbers(2, 8)"
   ]
  },
  {
   "cell_type": "code",
   "execution_count": 2,
   "outputs": [],
   "source": [],
   "metadata": {
    "collapsed": false
   }
  }
 ],
 "metadata": {
  "hide_input": false,
  "kernelspec": {
   "display_name": "automated_clean_code",
   "language": "python",
   "name": "automated_clean_code"
  },
  "language_info": {
   "codemirror_mode": {
    "name": "ipython",
    "version": 3
   },
   "file_extension": ".py",
   "mimetype": "text/x-python",
   "name": "python",
   "nbconvert_exporter": "python",
   "pygments_lexer": "ipython3",
   "version": "3.9.13"
  },
  "toc": {
   "colors": {
    "hover_highlight": "#DAA520",
    "running_highlight": "#FF0000",
    "selected_highlight": "#FFD700"
   },
   "moveMenuLeft": true,
   "nav_menu": {
    "height": "11.9886px",
    "width": "251.989px"
   },
   "navigate_menu": true,
   "number_sections": false,
   "sideBar": true,
   "threshold": 4,
   "toc_cell": false,
   "toc_section_display": "block",
   "toc_window_display": false
  }
 },
 "nbformat": 4,
 "nbformat_minor": 5
}
